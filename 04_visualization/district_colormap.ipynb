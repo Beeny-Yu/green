{
  "nbformat": 4,
  "nbformat_minor": 0,
  "metadata": {
    "colab": {
      "name": "지도 시각화.ipynb",
      "provenance": [],
      "collapsed_sections": []
    },
    "kernelspec": {
      "name": "python3",
      "display_name": "Python 3"
    },
    "language_info": {
      "name": "python"
    }
  },
  "cells": [
    {
      "cell_type": "markdown",
      "metadata": {
        "id": "ayeGfMGnx8IP"
      },
      "source": [
        "# 라이브러리 임포트"
      ]
    },
    {
      "cell_type": "code",
      "metadata": {
        "id": "E71lvtjHRcIA"
      },
      "source": [
        "# 지도 그리기 위한 라이브러리\n",
        "import folium\n",
        "\n",
        "import pandas as pd"
      ],
      "execution_count": null,
      "outputs": []
    },
    {
      "cell_type": "markdown",
      "metadata": {
        "id": "PqGvbA8cyClK"
      },
      "source": [
        "# 서울"
      ]
    },
    {
      "cell_type": "code",
      "metadata": {
        "id": "G1tSl9nTVL5o"
      },
      "source": [
        "geo_json = 'https://raw.githubusercontent.com/southkorea/seoul-maps/master/kostat/2013/json/seoul_municipalities_geo_simple.json'"
      ],
      "execution_count": null,
      "outputs": []
    },
    {
      "cell_type": "code",
      "metadata": {
        "colab": {
          "base_uri": "https://localhost:8080/",
          "height": 204
        },
        "id": "aV5KHEp7VVy1",
        "outputId": "7140e242-e14f-413c-e5ff-3eefd6e7588c"
      },
      "source": [
        "seoul = pd.read_csv('https://raw.githubusercontent.com/Jyeonni/eco/main/map_visualization/seoul_data.csv')\n",
        "seoul.head()"
      ],
      "execution_count": null,
      "outputs": [
        {
          "output_type": "execute_result",
          "data": {
            "text/html": [
              "<div>\n",
              "<style scoped>\n",
              "    .dataframe tbody tr th:only-of-type {\n",
              "        vertical-align: middle;\n",
              "    }\n",
              "\n",
              "    .dataframe tbody tr th {\n",
              "        vertical-align: top;\n",
              "    }\n",
              "\n",
              "    .dataframe thead th {\n",
              "        text-align: right;\n",
              "    }\n",
              "</style>\n",
              "<table border=\"1\" class=\"dataframe\">\n",
              "  <thead>\n",
              "    <tr style=\"text-align: right;\">\n",
              "      <th></th>\n",
              "      <th>district</th>\n",
              "      <th>total</th>\n",
              "    </tr>\n",
              "  </thead>\n",
              "  <tbody>\n",
              "    <tr>\n",
              "      <th>0</th>\n",
              "      <td>강남구</td>\n",
              "      <td>0.617695</td>\n",
              "    </tr>\n",
              "    <tr>\n",
              "      <th>1</th>\n",
              "      <td>강동구</td>\n",
              "      <td>0.530698</td>\n",
              "    </tr>\n",
              "    <tr>\n",
              "      <th>2</th>\n",
              "      <td>강북구</td>\n",
              "      <td>0.402210</td>\n",
              "    </tr>\n",
              "    <tr>\n",
              "      <th>3</th>\n",
              "      <td>강서구</td>\n",
              "      <td>0.434969</td>\n",
              "    </tr>\n",
              "    <tr>\n",
              "      <th>4</th>\n",
              "      <td>관악구</td>\n",
              "      <td>0.453405</td>\n",
              "    </tr>\n",
              "  </tbody>\n",
              "</table>\n",
              "</div>"
            ],
            "text/plain": [
              "  district     total\n",
              "0      강남구  0.617695\n",
              "1      강동구  0.530698\n",
              "2      강북구  0.402210\n",
              "3      강서구  0.434969\n",
              "4      관악구  0.453405"
            ]
          },
          "metadata": {},
          "execution_count": 61
        }
      ]
    },
    {
      "cell_type": "code",
      "metadata": {
        "id": "WjfUr2wNUIVT"
      },
      "source": [
        "m = folium.Map(\n",
        "    location=[37.566345, 126.977893],\n",
        "    tiles='Mapbox Bright'\n",
        ")\n",
        "# 아무것도 안 나오는 게 정상입니다"
      ],
      "execution_count": null,
      "outputs": []
    },
    {
      "cell_type": "code",
      "metadata": {
        "id": "ydcIVV5mUdur"
      },
      "source": [
        "folium.Choropleth(\n",
        "    geo_data=geo_json,\n",
        "    name='choropleth',\n",
        "    data=seoul,\n",
        "    columns=['district', 'total'],\n",
        "    key_on='feature.properties.name',\n",
        "    fill_color='YlGn',\n",
        "    fill_opacity=0.7,\n",
        "    line_opacity=0.2,\n",
        ").add_to(m)\n",
        "\n",
        "m"
      ],
      "execution_count": null,
      "outputs": []
    },
    {
      "cell_type": "markdown",
      "metadata": {
        "id": "ou_T7IiIhCg6"
      },
      "source": [
        "# 부산"
      ]
    },
    {
      "cell_type": "code",
      "metadata": {
        "id": "58s7H24idpi8"
      },
      "source": [
        "geo_json2 = 'https://raw.githubusercontent.com/southkorea/southkorea-maps/master/kostat/2013/json/skorea_municipalities_geo_simple.json'"
      ],
      "execution_count": null,
      "outputs": []
    },
    {
      "cell_type": "code",
      "metadata": {
        "colab": {
          "base_uri": "https://localhost:8080/",
          "height": 204
        },
        "id": "mRq8EjKGXUiz",
        "outputId": "7e502b28-92f9-49cc-f4f1-66aefda248be"
      },
      "source": [
        "busan = pd.read_csv('https://raw.githubusercontent.com/Jyeonni/eco/main/map_visualization/busan_data.csv')\n",
        "busan.head()"
      ],
      "execution_count": null,
      "outputs": [
        {
          "output_type": "execute_result",
          "data": {
            "text/html": [
              "<div>\n",
              "<style scoped>\n",
              "    .dataframe tbody tr th:only-of-type {\n",
              "        vertical-align: middle;\n",
              "    }\n",
              "\n",
              "    .dataframe tbody tr th {\n",
              "        vertical-align: top;\n",
              "    }\n",
              "\n",
              "    .dataframe thead th {\n",
              "        text-align: right;\n",
              "    }\n",
              "</style>\n",
              "<table border=\"1\" class=\"dataframe\">\n",
              "  <thead>\n",
              "    <tr style=\"text-align: right;\">\n",
              "      <th></th>\n",
              "      <th>district</th>\n",
              "      <th>total</th>\n",
              "    </tr>\n",
              "  </thead>\n",
              "  <tbody>\n",
              "    <tr>\n",
              "      <th>0</th>\n",
              "      <td>강서구</td>\n",
              "      <td>0.346875</td>\n",
              "    </tr>\n",
              "    <tr>\n",
              "      <th>1</th>\n",
              "      <td>금정구</td>\n",
              "      <td>0.352727</td>\n",
              "    </tr>\n",
              "    <tr>\n",
              "      <th>2</th>\n",
              "      <td>기장군</td>\n",
              "      <td>0.281310</td>\n",
              "    </tr>\n",
              "    <tr>\n",
              "      <th>3</th>\n",
              "      <td>남구</td>\n",
              "      <td>0.381010</td>\n",
              "    </tr>\n",
              "    <tr>\n",
              "      <th>4</th>\n",
              "      <td>동구</td>\n",
              "      <td>0.379821</td>\n",
              "    </tr>\n",
              "  </tbody>\n",
              "</table>\n",
              "</div>"
            ],
            "text/plain": [
              "  district     total\n",
              "0      강서구  0.346875\n",
              "1      금정구  0.352727\n",
              "2      기장군  0.281310\n",
              "3       남구  0.381010\n",
              "4       동구  0.379821"
            ]
          },
          "metadata": {},
          "execution_count": 65
        }
      ]
    },
    {
      "cell_type": "code",
      "metadata": {
        "id": "s_f-_petbTK-"
      },
      "source": [
        "b = folium.Map(\n",
        "    location=[35.17999, 129.07498],\n",
        "    tiles='Stamen Terrain'\n",
        ")\n",
        "b"
      ],
      "execution_count": null,
      "outputs": []
    },
    {
      "cell_type": "code",
      "metadata": {
        "id": "xeTlFiOkbVzD"
      },
      "source": [
        "folium.Choropleth(\n",
        "    geo_data=geo_json2,\n",
        "    name='choropleth',\n",
        "    data=busan,\n",
        "    columns=['district', 'total'],\n",
        "    key_on='feature.properties.name',\n",
        "    fill_color='YlGn',\n",
        "    fill_opacity=0.7,\n",
        "    line_opacity=0.2,\n",
        ").add_to(b)\n",
        "\n",
        "b"
      ],
      "execution_count": null,
      "outputs": []
    },
    {
      "cell_type": "markdown",
      "metadata": {
        "id": "qudvZqLDhE5-"
      },
      "source": [
        "# 제주"
      ]
    },
    {
      "cell_type": "code",
      "metadata": {
        "colab": {
          "base_uri": "https://localhost:8080/",
          "height": 111
        },
        "id": "6fupLf3Ic4Ev",
        "outputId": "4d12ff18-0008-438a-fb75-11d3884bb54b"
      },
      "source": [
        "jeju = pd.read_csv('https://raw.githubusercontent.com/Jyeonni/eco/main/map_visualization/jeju_data.csv')\n",
        "jeju.head()"
      ],
      "execution_count": null,
      "outputs": [
        {
          "output_type": "execute_result",
          "data": {
            "text/html": [
              "<div>\n",
              "<style scoped>\n",
              "    .dataframe tbody tr th:only-of-type {\n",
              "        vertical-align: middle;\n",
              "    }\n",
              "\n",
              "    .dataframe tbody tr th {\n",
              "        vertical-align: top;\n",
              "    }\n",
              "\n",
              "    .dataframe thead th {\n",
              "        text-align: right;\n",
              "    }\n",
              "</style>\n",
              "<table border=\"1\" class=\"dataframe\">\n",
              "  <thead>\n",
              "    <tr style=\"text-align: right;\">\n",
              "      <th></th>\n",
              "      <th>district</th>\n",
              "      <th>total</th>\n",
              "    </tr>\n",
              "  </thead>\n",
              "  <tbody>\n",
              "    <tr>\n",
              "      <th>0</th>\n",
              "      <td>서귀포시</td>\n",
              "      <td>0.547062</td>\n",
              "    </tr>\n",
              "    <tr>\n",
              "      <th>1</th>\n",
              "      <td>제주시</td>\n",
              "      <td>0.519478</td>\n",
              "    </tr>\n",
              "  </tbody>\n",
              "</table>\n",
              "</div>"
            ],
            "text/plain": [
              "  district     total\n",
              "0     서귀포시  0.547062\n",
              "1      제주시  0.519478"
            ]
          },
          "metadata": {},
          "execution_count": 80
        }
      ]
    },
    {
      "cell_type": "code",
      "metadata": {
        "id": "OVSOgDLrhZlp"
      },
      "source": [
        "j = folium.Map(\n",
        "    location=[33.60304, 126.47892],\n",
        "    tiles='Mapbox Bright'\n",
        ")\n",
        "j"
      ],
      "execution_count": null,
      "outputs": []
    },
    {
      "cell_type": "code",
      "metadata": {
        "id": "4thPfkW-heSk"
      },
      "source": [
        "folium.Choropleth(\n",
        "    geo_data=geo_json2,\n",
        "    name='choropleth',\n",
        "    data=jeju,\n",
        "    columns=['district', 'total'],\n",
        "    key_on='feature.properties.name',\n",
        "    fill_color='YlGn',\n",
        "    fill_opacity=0.7,\n",
        "    line_opacity=0.2,\n",
        ").add_to(j)\n",
        "\n",
        "j"
      ],
      "execution_count": null,
      "outputs": []
    },
    {
      "cell_type": "markdown",
      "metadata": {
        "id": "diT-xudKySrz"
      },
      "source": [
        "# 참고자료\n",
        "- json 파일 : https://github.com/southkorea/southkorea-maps/tree/master/kostat/2013/json"
      ]
    }
  ]
}
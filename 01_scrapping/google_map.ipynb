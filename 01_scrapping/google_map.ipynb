{
 "cells": [
  {
   "cell_type": "code",
   "execution_count": 1,
   "id": "97d48828",
   "metadata": {},
   "outputs": [],
   "source": [
    "from selenium import webdriver\n",
    "from bs4 import BeautifulSoup\n",
    "import pandas as pd\n",
    "import time"
   ]
  },
  {
   "cell_type": "markdown",
   "id": "693da661",
   "metadata": {},
   "source": [
    "# 구글맵 스크래핑\n",
    "\n",
    "[비거니즘 지형도](https://www.google.com/maps/d/viewer?mid=1Xk83sBun2GBnN_qrAriBx2vQTrQggpr-&ll=35.17392694941077%2C129.1084721083206&z=16\n",
    ")"
   ]
  },
  {
   "cell_type": "markdown",
   "id": "fde92e72",
   "metadata": {},
   "source": [
    "## 사전 준비"
   ]
  },
  {
   "cell_type": "code",
   "execution_count": 2,
   "id": "27e20445",
   "metadata": {},
   "outputs": [],
   "source": [
    "url = 'https://www.google.com/maps/d/viewer?mid=1Xk83sBun2GBnN_qrAriBx2vQTrQggpr-&ll=35.17392694941077%2C129.1084721083206&z=16'\n",
    "\n",
    "# headless option\n",
    "# options = webdriver.ChromeOptions()\n",
    "# options.headless = True\n",
    "\n",
    "# driver = webdriver.Chrome(options = options)\n",
    "driver = webdriver.Chrome()\n",
    "driver.get(url)\n",
    "driver.implicitly_wait(3)"
   ]
  },
  {
   "cell_type": "code",
   "execution_count": 3,
   "id": "d5dfda36",
   "metadata": {},
   "outputs": [],
   "source": [
    "# 목록별 개수\n",
    "cafe_num = driver.find_element_by_xpath('//*[@id=\"legendPanel\"]/div/div/div[2]/div/div/div[2]/div[1]/div/div[3]/div[104]').text\n",
    "cafe_idx = cafe_num.split(' ')[1].split('개')[0]\n",
    "cafe_idx = int(cafe_idx) + 4\n",
    "\n",
    "res_num = driver.find_element_by_xpath('//*[@id=\"legendPanel\"]/div/div/div[2]/div/div/div[2]/div[2]/div/div[3]/div[280]').text\n",
    "resto_idx = res_num.split(' ')[1].split('개')[0]\n",
    "resto_idx = int(resto_idx) + 4\n",
    "\n",
    "acc_num = driver.find_element_by_xpath('//*[@id=\"legendPanel\"]/div/div/div[2]/div/div/div[2]/div[3]/div/div[3]/div[182]').text\n",
    "acc_idx = acc_num.split(' ')[1].split('개')[0]\n",
    "acc_idx = int(acc_idx) + 4\n",
    "\n",
    "\n",
    "# 더보기 클릭\n",
    "more = driver.find_element_by_css_selector('#legendPanel > div > div > div.i4ewOd-PBWx0c-bN97Pc-haAclf > div > div > div.i4ewOd-pbTTYe-haAclf > div:nth-child(1) > div > div.HzV7m-pbTTYe-bN97Pc.HzV7m-pbTTYe-bN97Pc-qAWA2 > div.HzV7m-pbTTYe-bN97Pc-ti6hGc-z5C9Gb-haAclf > span')\n",
    "more.click()\n",
    "driver.implicitly_wait(3)\n",
    "\n",
    "more = driver.find_element_by_css_selector('#legendPanel > div > div > div.i4ewOd-PBWx0c-bN97Pc-haAclf > div > div > div.i4ewOd-pbTTYe-haAclf > div:nth-child(2) > div > div.HzV7m-pbTTYe-bN97Pc.HzV7m-pbTTYe-bN97Pc-qAWA2 > div.HzV7m-pbTTYe-bN97Pc-ti6hGc-z5C9Gb-haAclf > span')\n",
    "more.click()\n",
    "driver.implicitly_wait(3)\n",
    "\n",
    "more = driver.find_element_by_css_selector('#legendPanel > div > div > div.i4ewOd-PBWx0c-bN97Pc-haAclf > div > div > div.i4ewOd-pbTTYe-haAclf > div:nth-child(3) > div > div.HzV7m-pbTTYe-bN97Pc.HzV7m-pbTTYe-bN97Pc-qAWA2 > div.HzV7m-pbTTYe-bN97Pc-ti6hGc-z5C9Gb-haAclf > span')\n",
    "more.click()\n",
    "driver.implicitly_wait(3)\n",
    "\n",
    "\n",
    "# 목록별 가게 이름\n",
    "cafe_name = []\n",
    "resto_name = []\n",
    "acc_name = []\n",
    "\n",
    "cafes = driver.find_elements_by_xpath('//*[@id=\"legendPanel\"]/div/div/div[2]/div/div/div[2]/div[1]/div/div[3]')\n",
    "restos = driver.find_elements_by_xpath('//*[@id=\"legendPanel\"]/div/div/div[2]/div/div/div[2]/div[2]/div/div[3]')\n",
    "accs = driver.find_elements_by_xpath('//*[@id=\"legendPanel\"]/div/div/div[2]/div/div/div[2]/div[3]/div/div[3]')\n",
    "\n",
    "for cafe in cafes:\n",
    "    cafe_name.append(cafe.text)\n",
    "        \n",
    "\n",
    "for res in restos:\n",
    "    resto_name.append(res.text)\n",
    "\n",
    "for acc in accs:\n",
    "    acc_name.append(acc.text)\n",
    "    \n",
    "cafe_name = cafe_name[0].split('\\n')\n",
    "resto_name = resto_name[0].split('\\n')\n",
    "acc_name = acc_name[0].split('\\n')"
   ]
  },
  {
   "cell_type": "markdown",
   "id": "bcbb27f1",
   "metadata": {},
   "source": [
    "## 스크랩\n",
    "### 카페/베이커리"
   ]
  },
  {
   "cell_type": "code",
   "execution_count": 4,
   "id": "69a9b351",
   "metadata": {},
   "outputs": [],
   "source": [
    "cafe = []\n",
    "for idx in range(3, cafe_idx):\n",
    "    \n",
    "    # 가게 클릭\n",
    "    c = str(idx)\n",
    "    store = driver.find_element_by_xpath(f'//*[@id=\"legendPanel\"]/div/div/div[2]/div/div/div[2]/div[1]/div/div[3]/div[{c}]')\n",
    "    store.click()\n",
    "    driver.implicitly_wait(3)\n",
    "    \n",
    "    # 이름\n",
    "    name = cafe_name[idx-3]\n",
    "\n",
    "    # 주소\n",
    "    try: \n",
    "        address = driver.find_element_by_css_selector('div.fO2voc-jRmmHf-MZArnb-Q7Zjwb').text\n",
    "    except:\n",
    "        address = None\n",
    "        \n",
    "    # 설명\n",
    "    try:\n",
    "        desc = driver.find_element_by_xpath('//*[@id=\"featurecardPanel\"]/div/div/div[4]/div[1]/div[2]/div[2]').text\n",
    "    except:\n",
    "        desc = None\n",
    "        \n",
    "    url = driver.current_url.split('&ll=')[1].split('&z=')[0].split('%2C')\n",
    "    x = url[0]\n",
    "    y = url[1]\n",
    "    \n",
    "    \n",
    "    cafe.append([name, '먹거리_카페_디저트', address, desc, x, y])\n",
    "    \n",
    "    # 뒤로가기\n",
    "    back = driver.find_element_by_xpath('//*[@id=\"featurecardPanel\"]/div/div/div[3]/div[1]/div')\n",
    "    back.click()\n",
    "    driver.implicitly_wait(3)"
   ]
  },
  {
   "cell_type": "markdown",
   "id": "b295fd75",
   "metadata": {},
   "source": [
    "### 음식점"
   ]
  },
  {
   "cell_type": "code",
   "execution_count": 5,
   "id": "0e354ced",
   "metadata": {},
   "outputs": [],
   "source": [
    "resto = []\n",
    "for idx in range(3, resto_idx):\n",
    "    \n",
    "    # 가게 클릭\n",
    "    c = str(idx)\n",
    "    store = driver.find_element_by_xpath(f'//*[@id=\"legendPanel\"]/div/div/div[2]/div/div/div[2]/div[2]/div/div[3]/div[{c}]')\n",
    "    store.click()\n",
    "    driver.implicitly_wait(3)\n",
    "    \n",
    "    # 이름\n",
    "    name = resto_name[idx-3]\n",
    "\n",
    "    # 주소\n",
    "    try: \n",
    "        address = driver.find_element_by_css_selector('div.fO2voc-jRmmHf-MZArnb-Q7Zjwb').text\n",
    "    except:\n",
    "        address = None\n",
    "        \n",
    "    # 설명\n",
    "    try:\n",
    "        desc = driver.find_element_by_xpath('//*[@id=\"featurecardPanel\"]/div/div/div[4]/div[1]/div[2]/div[2]').text\n",
    "    except:\n",
    "        desc = None\n",
    "        \n",
    "    url = driver.current_url.split('&ll=')[1].split('&z=')[0].split('%2C')\n",
    "    x = url[0]\n",
    "    y = url[1]\n",
    "    \n",
    "    \n",
    "    resto.append([name, '먹거리_식당', address, desc, x, y])\n",
    "    \n",
    "    # 뒤로가기\n",
    "    back = driver.find_element_by_xpath('//*[@id=\"featurecardPanel\"]/div/div/div[3]/div[1]/div')\n",
    "    back.click()\n",
    "    driver.implicitly_wait(3)"
   ]
  },
  {
   "cell_type": "markdown",
   "id": "126d3c96",
   "metadata": {},
   "source": [
    "### 기타"
   ]
  },
  {
   "cell_type": "code",
   "execution_count": 6,
   "id": "198b69ef",
   "metadata": {},
   "outputs": [],
   "source": [
    "acc = []\n",
    "for idx in range(3, acc_idx):\n",
    "    \n",
    "    # 가게 클릭\n",
    "    c = str(idx)\n",
    "    store = driver.find_element_by_xpath(f'//*[@id=\"legendPanel\"]/div/div/div[2]/div/div/div[2]/div[3]/div/div[3]/div[{c}]')\n",
    "    store.click()\n",
    "    driver.implicitly_wait(3)\n",
    "    \n",
    "    # 이름\n",
    "    name = acc_name[idx-3]\n",
    "\n",
    "    # 주소\n",
    "    try: \n",
    "        address = driver.find_element_by_css_selector('div.fO2voc-jRmmHf-MZArnb-Q7Zjwb').text\n",
    "    except:\n",
    "        address = None\n",
    "        \n",
    "    # 설명\n",
    "    try:\n",
    "        desc = driver.find_element_by_xpath('//*[@id=\"featurecardPanel\"]/div/div/div[4]/div[1]/div[2]/div[2]').text\n",
    "    except:\n",
    "        desc = None\n",
    "        \n",
    "    url = driver.current_url.split('&ll=')[1].split('&z=')[0].split('%2C')\n",
    "    x = url[0]\n",
    "    y = url[1]\n",
    "    \n",
    "    \n",
    "    acc.append([name, None, address, desc, x, y])\n",
    "    \n",
    "    # 뒤로가기\n",
    "    back = driver.find_element_by_xpath('//*[@id=\"featurecardPanel\"]/div/div/div[3]/div[1]/div')\n",
    "    back.click()\n",
    "    driver.implicitly_wait(3)"
   ]
  },
  {
   "cell_type": "code",
   "execution_count": 7,
   "id": "1e55f2d1",
   "metadata": {},
   "outputs": [],
   "source": [
    "driver.quit()\n",
    "\n",
    "# 테이블 병합\n",
    "cafe = pd.DataFrame(data = cafe, columns=['store_name', 'sub_category', 'address', 'desc', 'lat', 'lon'])\n",
    "resto = pd.DataFrame(data = resto, columns=['store_name', 'sub_category', 'address', 'desc', 'lat', 'lon'])\n",
    "acc = pd.DataFrame(data = acc, columns=['store_name', 'sub_category', 'address', 'desc', 'lat', 'lon'])\n",
    "\n",
    "data = pd.concat([cafe, resto, acc], ignore_index=True)"
   ]
  },
  {
   "cell_type": "code",
   "execution_count": 8,
   "id": "9c798d1b",
   "metadata": {},
   "outputs": [],
   "source": [
    "data.to_excel('vegan_map.xlsx')"
   ]
  }
 ],
 "metadata": {
  "kernelspec": {
   "display_name": "Python 3",
   "language": "python",
   "name": "python3"
  },
  "language_info": {
   "codemirror_mode": {
    "name": "ipython",
    "version": 3
   },
   "file_extension": ".py",
   "mimetype": "text/x-python",
   "name": "python",
   "nbconvert_exporter": "python",
   "pygments_lexer": "ipython3",
   "version": "3.8.8"
  },
  "toc": {
   "base_numbering": 1,
   "nav_menu": {},
   "number_sections": true,
   "sideBar": true,
   "skip_h1_title": false,
   "title_cell": "Table of Contents",
   "title_sidebar": "Contents",
   "toc_cell": false,
   "toc_position": {},
   "toc_section_display": true,
   "toc_window_display": false
  }
 },
 "nbformat": 4,
 "nbformat_minor": 5
}
